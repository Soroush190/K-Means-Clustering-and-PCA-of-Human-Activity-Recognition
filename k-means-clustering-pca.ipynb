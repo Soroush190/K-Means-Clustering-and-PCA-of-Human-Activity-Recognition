{
 "cells": [
  {
   "cell_type": "markdown",
   "metadata": {
    "_uuid": "db7b70fe66ffbab974b8ef6cab59a2bd3c717330"
   },
   "source": [
    "## K-Means Clustering and PCA of Human Activity Recognition\n"
   ]
  },
  {
   "cell_type": "markdown",
   "metadata": {
    "_uuid": "5fccfee7b9af1771dd838e1c7ee7a726be3f1acc"
   },
   "source": [
    "### Intro\n",
    "\n",
    "Clustering was always a subject I tried to avoid (for no reason). In this project I will finally use my knowledge of clustering and PCA algorithms to explore the Human Activity Recognition dataset. \n",
    "\n",
    "I would love to point on resourses I have learned from:\n",
    "\n",
    "1. DataCamp Tutorial: [Python Machine Learning: Scikit-Learn Tutorial](https://www.datacamp.com/community/tutorials/machine-learning-python);\n",
    "\n",
    "2. DataCamp course: [Unsupervised Learning in Python](https://www.datacamp.com/courses/unsupervised-learning-in-python/);\n",
    "\n",
    "3. Cognitive Class course: [Machine Learning with Python](https://courses.cognitiveclass.ai/courses/course-v1:CognitiveClass+ML0101ENv3+2018/info);\n",
    "\n",
    "4. And of course [Prof. Google](http://google.com)!\n",
    "\n",
    "### Dataset info\n",
    "\n",
    "Human Activity Recognition database built from the recordings of 30 subjects performing activities of daily living (ADL) while carrying a waist-mounted smartphone with embedded inertial sensors. The experiments have been carried out with a group of 30 volunteers within an age bracket of 19-48 years. Each person performed six activities (*WALKING, WALKING_UPSTAIRS, WALKING_DOWNSTAIRS, SITTING, STANDING, LAYING*) wearing a smartphone (Samsung Galaxy S II) on the waist. Using its embedded accelerometer and gyroscope, we captured 3-axial linear acceleration and 3-axial angular velocity at a constant rate of 50Hz. The experiments have been video-recorded to label the data manually. "
   ]
  },
  {
   "cell_type": "code",
   "execution_count": 1,
   "metadata": {
    "_cell_guid": "b1076dfc-b9ad-4769-8c92-a6c4dae69d19",
    "_uuid": "8f2839f25d086af736a60e9eeb907d3b93b6e0e5",
    "execution": {
     "iopub.execute_input": "2022-10-29T20:21:50.019465Z",
     "iopub.status.busy": "2022-10-29T20:21:50.018727Z",
     "iopub.status.idle": "2022-10-29T20:21:50.034616Z",
     "shell.execute_reply": "2022-10-29T20:21:50.033394Z",
     "shell.execute_reply.started": "2022-10-29T20:21:50.019392Z"
    }
   },
   "outputs": [],
   "source": [
    "import random \n",
    "import numpy as np \n",
    "import pandas as pd\n",
    "import matplotlib.pyplot as plt \n",
    "from sklearn.preprocessing import StandardScaler\n",
    "from IPython.display import display\n",
    "from sklearn.cluster import KMeans \n",
    "from sklearn.decomposition import PCA\n",
    "from mpl_toolkits.mplot3d import Axes3D\n",
    "from sklearn.metrics import homogeneity_score, completeness_score, \\\n",
    "v_measure_score, adjusted_rand_score, adjusted_mutual_info_score, silhouette_score\n",
    "%matplotlib inline\n",
    "\n",
    "np.random.seed(123)"
   ]
  },
  {
   "cell_type": "code",
   "execution_count": 2,
   "metadata": {
    "_cell_guid": "79c7e3d0-c299-4dcb-8224-4455121ee9b0",
    "_uuid": "d629ff2d2480ee46fbb7e2d37f6b5fab8052498a",
    "execution": {
     "iopub.execute_input": "2022-10-29T20:21:50.060124Z",
     "iopub.status.busy": "2022-10-29T20:21:50.059391Z",
     "iopub.status.idle": "2022-10-29T20:21:50.427665Z",
     "shell.execute_reply": "2022-10-29T20:21:50.426850Z",
     "shell.execute_reply.started": "2022-10-29T20:21:50.059814Z"
    }
   },
   "outputs": [],
   "source": [
    "Data = pd.read_csv('../input/train.csv') "
   ]
  },
  {
   "cell_type": "code",
   "execution_count": 3,
   "metadata": {
    "_uuid": "0d75d9a39ca8762b4094ba03884aa4891a53bfb6",
    "execution": {
     "iopub.execute_input": "2022-10-29T20:21:50.428930Z",
     "iopub.status.busy": "2022-10-29T20:21:50.428661Z",
     "iopub.status.idle": "2022-10-29T20:21:50.575095Z",
     "shell.execute_reply": "2022-10-29T20:21:50.574467Z",
     "shell.execute_reply.started": "2022-10-29T20:21:50.428872Z"
    }
   },
   "outputs": [
    {
     "data": {
      "text/html": [
       "<div>\n",
       "<style scoped>\n",
       "    .dataframe tbody tr th:only-of-type {\n",
       "        vertical-align: middle;\n",
       "    }\n",
       "\n",
       "    .dataframe tbody tr th {\n",
       "        vertical-align: top;\n",
       "    }\n",
       "\n",
       "    .dataframe thead th {\n",
       "        text-align: right;\n",
       "    }\n",
       "</style>\n",
       "<table border=\"1\" class=\"dataframe\">\n",
       "  <thead>\n",
       "    <tr style=\"text-align: right;\">\n",
       "      <th></th>\n",
       "      <th>rn</th>\n",
       "      <th>activity</th>\n",
       "      <th>tBodyAcc.mean.X</th>\n",
       "      <th>tBodyAcc.mean.Y</th>\n",
       "      <th>tBodyAcc.mean.Z</th>\n",
       "      <th>tBodyAcc.std.X</th>\n",
       "      <th>tBodyAcc.std.Y</th>\n",
       "      <th>tBodyAcc.std.Z</th>\n",
       "      <th>tBodyAcc.mad.X</th>\n",
       "      <th>tBodyAcc.mad.Y</th>\n",
       "      <th>tBodyAcc.mad.Z</th>\n",
       "      <th>tBodyAcc.max.X</th>\n",
       "      <th>tBodyAcc.max.Y</th>\n",
       "      <th>tBodyAcc.max.Z</th>\n",
       "      <th>tBodyAcc.min.X</th>\n",
       "      <th>tBodyAcc.min.Y</th>\n",
       "      <th>tBodyAcc.min.Z</th>\n",
       "      <th>tBodyAcc.sma</th>\n",
       "      <th>tBodyAcc.energy.X</th>\n",
       "      <th>tBodyAcc.energy.Y</th>\n",
       "      <th>tBodyAcc.energy.Z</th>\n",
       "      <th>tBodyAcc.iqr.X</th>\n",
       "      <th>tBodyAcc.iqr.Y</th>\n",
       "      <th>tBodyAcc.iqr.Z</th>\n",
       "      <th>tBodyAcc.entropy.X</th>\n",
       "      <th>tBodyAcc.entropy.Y</th>\n",
       "      <th>tBodyAcc.entropy.Z</th>\n",
       "      <th>tBodyAcc.arCoeff.X.1</th>\n",
       "      <th>tBodyAcc.arCoeff.X.2</th>\n",
       "      <th>tBodyAcc.arCoeff.X.3</th>\n",
       "      <th>tBodyAcc.arCoeff.X.4</th>\n",
       "      <th>tBodyAcc.arCoeff.Y.1</th>\n",
       "      <th>tBodyAcc.arCoeff.Y.2</th>\n",
       "      <th>tBodyAcc.arCoeff.Y.3</th>\n",
       "      <th>tBodyAcc.arCoeff.Y.4</th>\n",
       "      <th>tBodyAcc.arCoeff.Z.1</th>\n",
       "      <th>tBodyAcc.arCoeff.Z.2</th>\n",
       "      <th>tBodyAcc.arCoeff.Z.3</th>\n",
       "      <th>tBodyAcc.arCoeff.Z.4</th>\n",
       "      <th>tBodyAcc.correlation.X.Y</th>\n",
       "      <th>...</th>\n",
       "      <th>fBodyBodyAccJerkMag.energy</th>\n",
       "      <th>fBodyBodyAccJerkMag.iqr</th>\n",
       "      <th>fBodyBodyAccJerkMag.entropy</th>\n",
       "      <th>fBodyBodyAccJerkMag.maxInds</th>\n",
       "      <th>fBodyBodyAccJerkMag.meanFreq</th>\n",
       "      <th>fBodyBodyAccJerkMag.skewness</th>\n",
       "      <th>fBodyBodyAccJerkMag.kurtosis</th>\n",
       "      <th>fBodyBodyGyroMag.mean</th>\n",
       "      <th>fBodyBodyGyroMag.std</th>\n",
       "      <th>fBodyBodyGyroMag.mad</th>\n",
       "      <th>fBodyBodyGyroMag.max</th>\n",
       "      <th>fBodyBodyGyroMag.min</th>\n",
       "      <th>fBodyBodyGyroMag.sma</th>\n",
       "      <th>fBodyBodyGyroMag.energy</th>\n",
       "      <th>fBodyBodyGyroMag.iqr</th>\n",
       "      <th>fBodyBodyGyroMag.entropy</th>\n",
       "      <th>fBodyBodyGyroMag.maxInds</th>\n",
       "      <th>fBodyBodyGyroMag.meanFreq</th>\n",
       "      <th>fBodyBodyGyroMag.skewness</th>\n",
       "      <th>fBodyBodyGyroMag.kurtosis</th>\n",
       "      <th>fBodyBodyGyroJerkMag.mean</th>\n",
       "      <th>fBodyBodyGyroJerkMag.std</th>\n",
       "      <th>fBodyBodyGyroJerkMag.mad</th>\n",
       "      <th>fBodyBodyGyroJerkMag.max</th>\n",
       "      <th>fBodyBodyGyroJerkMag.min</th>\n",
       "      <th>fBodyBodyGyroJerkMag.sma</th>\n",
       "      <th>fBodyBodyGyroJerkMag.energy</th>\n",
       "      <th>fBodyBodyGyroJerkMag.iqr</th>\n",
       "      <th>fBodyBodyGyroJerkMag.entropy</th>\n",
       "      <th>fBodyBodyGyroJerkMag.maxInds</th>\n",
       "      <th>fBodyBodyGyroJerkMag.meanFreq</th>\n",
       "      <th>fBodyBodyGyroJerkMag.skewness</th>\n",
       "      <th>fBodyBodyGyroJerkMag.kurtosis</th>\n",
       "      <th>angle.tBodyAccMean.gravity</th>\n",
       "      <th>angle.tBodyAccJerkMean.gravityMean</th>\n",
       "      <th>angle.tBodyGyroMean.gravityMean</th>\n",
       "      <th>angle.tBodyGyroJerkMean.gravityMean</th>\n",
       "      <th>angle.X.gravityMean</th>\n",
       "      <th>angle.Y.gravityMean</th>\n",
       "      <th>angle.Z.gravityMean</th>\n",
       "    </tr>\n",
       "  </thead>\n",
       "  <tbody>\n",
       "    <tr>\n",
       "      <th>613</th>\n",
       "      <td>1739</td>\n",
       "      <td>WALKING_UPSTAIRS</td>\n",
       "      <td>0.241</td>\n",
       "      <td>-0.00873</td>\n",
       "      <td>-0.10600</td>\n",
       "      <td>-0.216</td>\n",
       "      <td>0.3220</td>\n",
       "      <td>-0.0801</td>\n",
       "      <td>-0.267</td>\n",
       "      <td>0.315</td>\n",
       "      <td>-0.124</td>\n",
       "      <td>-0.144</td>\n",
       "      <td>0.239</td>\n",
       "      <td>-0.108</td>\n",
       "      <td>-0.00806</td>\n",
       "      <td>-0.0447</td>\n",
       "      <td>0.466</td>\n",
       "      <td>0.0204</td>\n",
       "      <td>-0.691</td>\n",
       "      <td>-0.664</td>\n",
       "      <td>-0.620</td>\n",
       "      <td>-0.351</td>\n",
       "      <td>-0.0239</td>\n",
       "      <td>-0.472</td>\n",
       "      <td>0.463</td>\n",
       "      <td>0.376</td>\n",
       "      <td>-0.152</td>\n",
       "      <td>-0.3340</td>\n",
       "      <td>0.25900</td>\n",
       "      <td>-0.1090</td>\n",
       "      <td>0.0766</td>\n",
       "      <td>-0.1920</td>\n",
       "      <td>0.1430</td>\n",
       "      <td>0.00736</td>\n",
       "      <td>0.185</td>\n",
       "      <td>-0.1450</td>\n",
       "      <td>0.0809</td>\n",
       "      <td>-0.0649</td>\n",
       "      <td>0.0856</td>\n",
       "      <td>-0.324</td>\n",
       "      <td>...</td>\n",
       "      <td>-0.781</td>\n",
       "      <td>-0.423</td>\n",
       "      <td>0.232</td>\n",
       "      <td>-0.841</td>\n",
       "      <td>0.4660</td>\n",
       "      <td>-0.820</td>\n",
       "      <td>-0.973</td>\n",
       "      <td>-0.2690</td>\n",
       "      <td>-0.284</td>\n",
       "      <td>-0.189</td>\n",
       "      <td>-0.460</td>\n",
       "      <td>-0.796</td>\n",
       "      <td>-0.2690</td>\n",
       "      <td>-0.676</td>\n",
       "      <td>-0.347</td>\n",
       "      <td>0.5720</td>\n",
       "      <td>-0.795</td>\n",
       "      <td>-0.138</td>\n",
       "      <td>-0.514</td>\n",
       "      <td>-0.832</td>\n",
       "      <td>-0.529</td>\n",
       "      <td>-0.677</td>\n",
       "      <td>-0.578</td>\n",
       "      <td>-0.782</td>\n",
       "      <td>-0.905</td>\n",
       "      <td>-0.529</td>\n",
       "      <td>-0.909</td>\n",
       "      <td>-0.458</td>\n",
       "      <td>0.461</td>\n",
       "      <td>-0.651</td>\n",
       "      <td>0.358</td>\n",
       "      <td>-0.726</td>\n",
       "      <td>-0.9410</td>\n",
       "      <td>0.86900</td>\n",
       "      <td>0.337</td>\n",
       "      <td>-0.91600</td>\n",
       "      <td>0.77500</td>\n",
       "      <td>-0.686</td>\n",
       "      <td>0.314</td>\n",
       "      <td>0.034</td>\n",
       "    </tr>\n",
       "    <tr>\n",
       "      <th>2306</th>\n",
       "      <td>6598</td>\n",
       "      <td>WALKING_DOWNSTAIRS</td>\n",
       "      <td>0.238</td>\n",
       "      <td>-0.03990</td>\n",
       "      <td>-0.15800</td>\n",
       "      <td>0.284</td>\n",
       "      <td>0.2270</td>\n",
       "      <td>-0.1330</td>\n",
       "      <td>0.245</td>\n",
       "      <td>0.214</td>\n",
       "      <td>-0.169</td>\n",
       "      <td>0.623</td>\n",
       "      <td>0.258</td>\n",
       "      <td>-0.401</td>\n",
       "      <td>-0.08310</td>\n",
       "      <td>0.0248</td>\n",
       "      <td>0.132</td>\n",
       "      <td>0.2640</td>\n",
       "      <td>-0.176</td>\n",
       "      <td>-0.709</td>\n",
       "      <td>-0.658</td>\n",
       "      <td>0.201</td>\n",
       "      <td>-0.0497</td>\n",
       "      <td>-0.203</td>\n",
       "      <td>0.345</td>\n",
       "      <td>0.234</td>\n",
       "      <td>0.245</td>\n",
       "      <td>-0.2170</td>\n",
       "      <td>0.05410</td>\n",
       "      <td>-0.0314</td>\n",
       "      <td>0.3450</td>\n",
       "      <td>0.0475</td>\n",
       "      <td>-0.0105</td>\n",
       "      <td>0.14400</td>\n",
       "      <td>0.127</td>\n",
       "      <td>0.0450</td>\n",
       "      <td>0.1570</td>\n",
       "      <td>-0.1820</td>\n",
       "      <td>0.1010</td>\n",
       "      <td>-0.512</td>\n",
       "      <td>...</td>\n",
       "      <td>-0.497</td>\n",
       "      <td>-0.197</td>\n",
       "      <td>0.532</td>\n",
       "      <td>-0.873</td>\n",
       "      <td>0.1590</td>\n",
       "      <td>-0.205</td>\n",
       "      <td>-0.553</td>\n",
       "      <td>-0.0911</td>\n",
       "      <td>-0.279</td>\n",
       "      <td>-0.134</td>\n",
       "      <td>-0.470</td>\n",
       "      <td>-0.570</td>\n",
       "      <td>-0.0911</td>\n",
       "      <td>-0.601</td>\n",
       "      <td>-0.156</td>\n",
       "      <td>0.7530</td>\n",
       "      <td>-0.846</td>\n",
       "      <td>0.170</td>\n",
       "      <td>-0.587</td>\n",
       "      <td>-0.866</td>\n",
       "      <td>-0.260</td>\n",
       "      <td>-0.350</td>\n",
       "      <td>-0.324</td>\n",
       "      <td>-0.428</td>\n",
       "      <td>-0.747</td>\n",
       "      <td>-0.260</td>\n",
       "      <td>-0.736</td>\n",
       "      <td>-0.370</td>\n",
       "      <td>0.545</td>\n",
       "      <td>-0.873</td>\n",
       "      <td>0.302</td>\n",
       "      <td>-0.190</td>\n",
       "      <td>-0.5850</td>\n",
       "      <td>0.09500</td>\n",
       "      <td>-0.684</td>\n",
       "      <td>0.93700</td>\n",
       "      <td>-0.63600</td>\n",
       "      <td>-0.749</td>\n",
       "      <td>0.235</td>\n",
       "      <td>0.127</td>\n",
       "    </tr>\n",
       "    <tr>\n",
       "      <th>800</th>\n",
       "      <td>2291</td>\n",
       "      <td>LAYING</td>\n",
       "      <td>0.280</td>\n",
       "      <td>-0.02310</td>\n",
       "      <td>-0.09980</td>\n",
       "      <td>-0.978</td>\n",
       "      <td>-0.9650</td>\n",
       "      <td>-0.9690</td>\n",
       "      <td>-0.980</td>\n",
       "      <td>-0.964</td>\n",
       "      <td>-0.970</td>\n",
       "      <td>-0.929</td>\n",
       "      <td>-0.561</td>\n",
       "      <td>-0.797</td>\n",
       "      <td>0.82400</td>\n",
       "      <td>0.6800</td>\n",
       "      <td>0.836</td>\n",
       "      <td>-0.9700</td>\n",
       "      <td>-1.000</td>\n",
       "      <td>-1.000</td>\n",
       "      <td>-0.999</td>\n",
       "      <td>-0.981</td>\n",
       "      <td>-0.9650</td>\n",
       "      <td>-0.970</td>\n",
       "      <td>-0.276</td>\n",
       "      <td>-0.581</td>\n",
       "      <td>-0.274</td>\n",
       "      <td>-0.1830</td>\n",
       "      <td>-0.00832</td>\n",
       "      <td>0.1180</td>\n",
       "      <td>0.0359</td>\n",
       "      <td>0.0469</td>\n",
       "      <td>-0.0692</td>\n",
       "      <td>-0.06490</td>\n",
       "      <td>0.389</td>\n",
       "      <td>0.1360</td>\n",
       "      <td>-0.1440</td>\n",
       "      <td>0.2060</td>\n",
       "      <td>-0.1540</td>\n",
       "      <td>0.479</td>\n",
       "      <td>...</td>\n",
       "      <td>-1.000</td>\n",
       "      <td>-0.990</td>\n",
       "      <td>-1.000</td>\n",
       "      <td>-0.143</td>\n",
       "      <td>0.4880</td>\n",
       "      <td>-0.604</td>\n",
       "      <td>-0.903</td>\n",
       "      <td>-0.9780</td>\n",
       "      <td>-0.957</td>\n",
       "      <td>-0.967</td>\n",
       "      <td>-0.947</td>\n",
       "      <td>-0.997</td>\n",
       "      <td>-0.9780</td>\n",
       "      <td>-0.999</td>\n",
       "      <td>-0.982</td>\n",
       "      <td>-0.6370</td>\n",
       "      <td>-1.000</td>\n",
       "      <td>-0.474</td>\n",
       "      <td>0.537</td>\n",
       "      <td>0.360</td>\n",
       "      <td>-0.992</td>\n",
       "      <td>-0.996</td>\n",
       "      <td>-0.994</td>\n",
       "      <td>-0.997</td>\n",
       "      <td>-0.988</td>\n",
       "      <td>-0.992</td>\n",
       "      <td>-1.000</td>\n",
       "      <td>-0.992</td>\n",
       "      <td>-1.000</td>\n",
       "      <td>-0.683</td>\n",
       "      <td>0.494</td>\n",
       "      <td>-0.863</td>\n",
       "      <td>-0.9560</td>\n",
       "      <td>-0.12800</td>\n",
       "      <td>0.262</td>\n",
       "      <td>-0.09800</td>\n",
       "      <td>0.05580</td>\n",
       "      <td>0.420</td>\n",
       "      <td>-0.278</td>\n",
       "      <td>-0.714</td>\n",
       "    </tr>\n",
       "    <tr>\n",
       "      <th>1621</th>\n",
       "      <td>4615</td>\n",
       "      <td>LAYING</td>\n",
       "      <td>0.320</td>\n",
       "      <td>0.03790</td>\n",
       "      <td>-0.15300</td>\n",
       "      <td>-0.642</td>\n",
       "      <td>-0.5340</td>\n",
       "      <td>-0.7920</td>\n",
       "      <td>-0.647</td>\n",
       "      <td>-0.615</td>\n",
       "      <td>-0.788</td>\n",
       "      <td>-0.526</td>\n",
       "      <td>-0.160</td>\n",
       "      <td>-0.696</td>\n",
       "      <td>0.58800</td>\n",
       "      <td>0.4050</td>\n",
       "      <td>0.689</td>\n",
       "      <td>-0.6140</td>\n",
       "      <td>-0.934</td>\n",
       "      <td>-0.952</td>\n",
       "      <td>-0.975</td>\n",
       "      <td>-0.683</td>\n",
       "      <td>-0.7880</td>\n",
       "      <td>-0.791</td>\n",
       "      <td>0.385</td>\n",
       "      <td>0.410</td>\n",
       "      <td>-0.232</td>\n",
       "      <td>-0.0884</td>\n",
       "      <td>0.13000</td>\n",
       "      <td>-0.3640</td>\n",
       "      <td>0.2470</td>\n",
       "      <td>-0.0692</td>\n",
       "      <td>0.0456</td>\n",
       "      <td>0.01410</td>\n",
       "      <td>0.121</td>\n",
       "      <td>0.0129</td>\n",
       "      <td>-0.0357</td>\n",
       "      <td>0.3130</td>\n",
       "      <td>-0.4300</td>\n",
       "      <td>0.454</td>\n",
       "      <td>...</td>\n",
       "      <td>-0.972</td>\n",
       "      <td>-0.801</td>\n",
       "      <td>-0.195</td>\n",
       "      <td>-0.968</td>\n",
       "      <td>-0.0905</td>\n",
       "      <td>-0.232</td>\n",
       "      <td>-0.649</td>\n",
       "      <td>-0.7800</td>\n",
       "      <td>-0.648</td>\n",
       "      <td>-0.692</td>\n",
       "      <td>-0.697</td>\n",
       "      <td>-0.975</td>\n",
       "      <td>-0.7800</td>\n",
       "      <td>-0.941</td>\n",
       "      <td>-0.831</td>\n",
       "      <td>0.0962</td>\n",
       "      <td>-0.897</td>\n",
       "      <td>-0.558</td>\n",
       "      <td>-0.102</td>\n",
       "      <td>-0.549</td>\n",
       "      <td>-0.886</td>\n",
       "      <td>-0.910</td>\n",
       "      <td>-0.899</td>\n",
       "      <td>-0.920</td>\n",
       "      <td>-0.912</td>\n",
       "      <td>-0.886</td>\n",
       "      <td>-0.994</td>\n",
       "      <td>-0.896</td>\n",
       "      <td>-0.242</td>\n",
       "      <td>-0.968</td>\n",
       "      <td>0.309</td>\n",
       "      <td>-0.388</td>\n",
       "      <td>-0.7290</td>\n",
       "      <td>0.00812</td>\n",
       "      <td>-0.139</td>\n",
       "      <td>0.17000</td>\n",
       "      <td>0.52000</td>\n",
       "      <td>0.685</td>\n",
       "      <td>-0.250</td>\n",
       "      <td>-0.760</td>\n",
       "    </tr>\n",
       "    <tr>\n",
       "      <th>1436</th>\n",
       "      <td>4111</td>\n",
       "      <td>WALKING</td>\n",
       "      <td>0.211</td>\n",
       "      <td>-0.04250</td>\n",
       "      <td>-0.09770</td>\n",
       "      <td>-0.324</td>\n",
       "      <td>-0.0342</td>\n",
       "      <td>-0.2350</td>\n",
       "      <td>-0.362</td>\n",
       "      <td>-0.031</td>\n",
       "      <td>-0.223</td>\n",
       "      <td>-0.110</td>\n",
       "      <td>-0.138</td>\n",
       "      <td>-0.378</td>\n",
       "      <td>0.23100</td>\n",
       "      <td>0.1430</td>\n",
       "      <td>0.366</td>\n",
       "      <td>-0.1600</td>\n",
       "      <td>-0.769</td>\n",
       "      <td>-0.818</td>\n",
       "      <td>-0.735</td>\n",
       "      <td>-0.418</td>\n",
       "      <td>-0.2280</td>\n",
       "      <td>-0.178</td>\n",
       "      <td>0.351</td>\n",
       "      <td>0.378</td>\n",
       "      <td>0.323</td>\n",
       "      <td>-0.4770</td>\n",
       "      <td>0.55800</td>\n",
       "      <td>-0.3680</td>\n",
       "      <td>0.1780</td>\n",
       "      <td>-0.4080</td>\n",
       "      <td>0.4450</td>\n",
       "      <td>-0.16400</td>\n",
       "      <td>0.113</td>\n",
       "      <td>-0.2010</td>\n",
       "      <td>0.1780</td>\n",
       "      <td>-0.0180</td>\n",
       "      <td>-0.0641</td>\n",
       "      <td>-0.392</td>\n",
       "      <td>...</td>\n",
       "      <td>-0.566</td>\n",
       "      <td>-0.250</td>\n",
       "      <td>0.462</td>\n",
       "      <td>-0.873</td>\n",
       "      <td>0.2010</td>\n",
       "      <td>0.530</td>\n",
       "      <td>0.328</td>\n",
       "      <td>-0.4690</td>\n",
       "      <td>-0.590</td>\n",
       "      <td>-0.497</td>\n",
       "      <td>-0.648</td>\n",
       "      <td>-0.816</td>\n",
       "      <td>-0.4690</td>\n",
       "      <td>-0.867</td>\n",
       "      <td>-0.376</td>\n",
       "      <td>0.5590</td>\n",
       "      <td>-0.795</td>\n",
       "      <td>0.346</td>\n",
       "      <td>-0.595</td>\n",
       "      <td>-0.817</td>\n",
       "      <td>-0.594</td>\n",
       "      <td>-0.467</td>\n",
       "      <td>-0.507</td>\n",
       "      <td>-0.421</td>\n",
       "      <td>-0.567</td>\n",
       "      <td>-0.594</td>\n",
       "      <td>-0.883</td>\n",
       "      <td>-0.582</td>\n",
       "      <td>0.333</td>\n",
       "      <td>-0.873</td>\n",
       "      <td>0.241</td>\n",
       "      <td>0.320</td>\n",
       "      <td>0.0199</td>\n",
       "      <td>0.30500</td>\n",
       "      <td>-0.493</td>\n",
       "      <td>0.72700</td>\n",
       "      <td>-0.43600</td>\n",
       "      <td>-0.572</td>\n",
       "      <td>0.344</td>\n",
       "      <td>0.182</td>\n",
       "    </tr>\n",
       "    <tr>\n",
       "      <th>2445</th>\n",
       "      <td>7000</td>\n",
       "      <td>SITTING</td>\n",
       "      <td>0.194</td>\n",
       "      <td>0.06220</td>\n",
       "      <td>-0.00417</td>\n",
       "      <td>-0.920</td>\n",
       "      <td>-0.6320</td>\n",
       "      <td>-0.7440</td>\n",
       "      <td>-0.929</td>\n",
       "      <td>-0.621</td>\n",
       "      <td>-0.731</td>\n",
       "      <td>-0.944</td>\n",
       "      <td>-0.239</td>\n",
       "      <td>-0.538</td>\n",
       "      <td>0.68600</td>\n",
       "      <td>0.6890</td>\n",
       "      <td>0.845</td>\n",
       "      <td>-0.8210</td>\n",
       "      <td>-0.995</td>\n",
       "      <td>-0.962</td>\n",
       "      <td>-0.952</td>\n",
       "      <td>-0.958</td>\n",
       "      <td>-0.7630</td>\n",
       "      <td>-0.799</td>\n",
       "      <td>-0.888</td>\n",
       "      <td>0.121</td>\n",
       "      <td>0.199</td>\n",
       "      <td>-0.4780</td>\n",
       "      <td>0.48700</td>\n",
       "      <td>-0.4130</td>\n",
       "      <td>0.0596</td>\n",
       "      <td>-0.5140</td>\n",
       "      <td>0.2160</td>\n",
       "      <td>0.22100</td>\n",
       "      <td>-0.156</td>\n",
       "      <td>-0.2100</td>\n",
       "      <td>0.0696</td>\n",
       "      <td>-0.2840</td>\n",
       "      <td>0.3890</td>\n",
       "      <td>-0.965</td>\n",
       "      <td>...</td>\n",
       "      <td>-0.998</td>\n",
       "      <td>-0.969</td>\n",
       "      <td>-0.799</td>\n",
       "      <td>-1.000</td>\n",
       "      <td>-0.2920</td>\n",
       "      <td>0.119</td>\n",
       "      <td>-0.246</td>\n",
       "      <td>-0.8880</td>\n",
       "      <td>-0.757</td>\n",
       "      <td>-0.850</td>\n",
       "      <td>-0.691</td>\n",
       "      <td>-0.896</td>\n",
       "      <td>-0.8880</td>\n",
       "      <td>-0.974</td>\n",
       "      <td>-0.945</td>\n",
       "      <td>-0.2080</td>\n",
       "      <td>-1.000</td>\n",
       "      <td>-0.398</td>\n",
       "      <td>0.868</td>\n",
       "      <td>0.791</td>\n",
       "      <td>-0.966</td>\n",
       "      <td>-0.958</td>\n",
       "      <td>-0.951</td>\n",
       "      <td>-0.970</td>\n",
       "      <td>-0.977</td>\n",
       "      <td>-0.966</td>\n",
       "      <td>-0.999</td>\n",
       "      <td>-0.969</td>\n",
       "      <td>-0.542</td>\n",
       "      <td>-1.000</td>\n",
       "      <td>-0.616</td>\n",
       "      <td>-0.337</td>\n",
       "      <td>-0.7780</td>\n",
       "      <td>0.09260</td>\n",
       "      <td>0.141</td>\n",
       "      <td>-0.00611</td>\n",
       "      <td>-0.00732</td>\n",
       "      <td>-0.721</td>\n",
       "      <td>0.103</td>\n",
       "      <td>-0.184</td>\n",
       "    </tr>\n",
       "  </tbody>\n",
       "</table>\n",
       "</div>"
      ],
      "text/plain": [
       "        rn         ...         angle.Z.gravityMean\n",
       "613   1739         ...                       0.034\n",
       "2306  6598         ...                       0.127\n",
       "800   2291         ...                      -0.714\n",
       "1621  4615         ...                      -0.760\n",
       "1436  4111         ...                       0.182\n",
       "2445  7000         ...                      -0.184\n",
       "\n",
       "[6 rows x 563 columns]"
      ]
     },
     "execution_count": 3,
     "metadata": {},
     "output_type": "execute_result"
    }
   ],
   "source": [
    "Data.sample(6)"
   ]
  },
  {
   "cell_type": "code",
   "execution_count": 4,
   "metadata": {
    "_uuid": "c778c9d35c5a36800c8fe54b8584febf066d52cc",
    "execution": {
     "iopub.execute_input": "2022-10-29T20:21:50.576417Z",
     "iopub.status.busy": "2022-10-29T20:21:50.576000Z",
     "iopub.status.idle": "2022-10-29T20:21:50.580832Z",
     "shell.execute_reply": "2022-10-29T20:21:50.580103Z",
     "shell.execute_reply.started": "2022-10-29T20:21:50.576360Z"
    }
   },
   "outputs": [
    {
     "name": "stdout",
     "output_type": "stream",
     "text": [
      "Shape of the data set: (3609, 563)\n"
     ]
    }
   ],
   "source": [
    "print('Shape of the data set: ' + str(Data.shape))"
   ]
  },
  {
   "cell_type": "code",
   "execution_count": 5,
   "metadata": {
    "_uuid": "0ce7fbd3acc1b4a8126030208c93cbb28c8f7dec",
    "execution": {
     "iopub.execute_input": "2022-10-29T20:21:50.582442Z",
     "iopub.status.busy": "2022-10-29T20:21:50.582130Z",
     "iopub.status.idle": "2022-10-29T20:21:50.612511Z",
     "shell.execute_reply": "2022-10-29T20:21:50.611518Z",
     "shell.execute_reply.started": "2022-10-29T20:21:50.582377Z"
    }
   },
   "outputs": [
    {
     "name": "stdout",
     "output_type": "stream",
     "text": [
      "Activity labels: ['STANDING', 'SITTING', 'LAYING', 'WALKING', 'WALKING_DOWNSTAIRS', 'WALKING_UPSTAIRS']\n"
     ]
    }
   ],
   "source": [
    "#save labels as string\n",
    "Labels = Data['activity']\n",
    "Data = Data.drop(['rn', 'activity'], axis = 1)\n",
    "Labels_keys = Labels.unique().tolist()\n",
    "Labels = np.array(Labels)\n",
    "print('Activity labels: ' + str(Labels_keys))"
   ]
  },
  {
   "cell_type": "code",
   "execution_count": 6,
   "metadata": {
    "_uuid": "2c37995ce0245b2daf2f4172a889dd24cbe3aa8f",
    "execution": {
     "iopub.execute_input": "2022-10-29T20:21:50.614332Z",
     "iopub.status.busy": "2022-10-29T20:21:50.613946Z",
     "iopub.status.idle": "2022-10-29T20:21:50.664644Z",
     "shell.execute_reply": "2022-10-29T20:21:50.663735Z",
     "shell.execute_reply.started": "2022-10-29T20:21:50.614264Z"
    }
   },
   "outputs": [
    {
     "name": "stdout",
     "output_type": "stream",
     "text": [
      "Amount of rows with missing values: 0\n"
     ]
    }
   ],
   "source": [
    "#check for missing values\n",
    "Temp = pd.DataFrame(Data.isnull().sum())\n",
    "Temp.columns = ['Sum']\n",
    "print('Amount of rows with missing values: ' + str(len(Temp.index[Temp['Sum'] > 0])) )"
   ]
  },
  {
   "cell_type": "code",
   "execution_count": 7,
   "metadata": {
    "_uuid": "2fbedddd526219ed7c20866c1908910c2eec9173",
    "execution": {
     "iopub.execute_input": "2022-10-29T20:21:50.666466Z",
     "iopub.status.busy": "2022-10-29T20:21:50.665955Z",
     "iopub.status.idle": "2022-10-29T20:21:50.762300Z",
     "shell.execute_reply": "2022-10-29T20:21:50.761416Z",
     "shell.execute_reply.started": "2022-10-29T20:21:50.666406Z"
    }
   },
   "outputs": [],
   "source": [
    "#normalize the dataset\n",
    "scaler = StandardScaler()\n",
    "Data = scaler.fit_transform(Data)"
   ]
  },
  {
   "cell_type": "code",
   "execution_count": 8,
   "metadata": {
    "_uuid": "fdbd26ac5a9a1010601f69bfc9016a18a7754f33",
    "execution": {
     "iopub.execute_input": "2022-10-29T20:21:50.764001Z",
     "iopub.status.busy": "2022-10-29T20:21:50.763480Z",
     "iopub.status.idle": "2022-10-29T20:22:10.195388Z",
     "shell.execute_reply": "2022-10-29T20:22:10.194425Z",
     "shell.execute_reply.started": "2022-10-29T20:21:50.763934Z"
    }
   },
   "outputs": [
    {
     "data": {
      "image/png": "[encoded data removed]",
      "text/plain": [
       "<matplotlib.figure.Figure at 0x7f32922dddd8>"
      ]
     },
     "metadata": {},
     "output_type": "display_data"
    }
   ],
   "source": [
    "#check the optimal k value\n",
    "ks = range(1, 10)\n",
    "inertias = []\n",
    "\n",
    "for k in ks:\n",
    "    model = KMeans(n_clusters=k)\n",
    "    model.fit(Data)\n",
    "    inertias.append(model.inertia_)\n",
    "\n",
    "plt.figure(figsize=(8,5))\n",
    "plt.style.use('bmh')\n",
    "plt.plot(ks, inertias, '-o')\n",
    "plt.xlabel('Number of clusters, k')\n",
    "plt.ylabel('Inertia')\n",
    "plt.xticks(ks)\n",
    "plt.show()"
   ]
  },
  {
   "cell_type": "markdown",
   "metadata": {
    "_uuid": "91cfe23cbfe44daebbd2f92523f511b90c6cb69e"
   },
   "source": [
    "**Looks like the best value (\"elbow\" of the line) for k is 2 (two clusters).**"
   ]
  },
  {
   "cell_type": "code",
   "execution_count": 9,
   "metadata": {
    "_uuid": "7188fdd938b8ac2d13a27532549fd39891a4fcfc",
    "execution": {
     "iopub.execute_input": "2022-10-29T20:22:10.197450Z",
     "iopub.status.busy": "2022-10-29T20:22:10.196827Z",
     "iopub.status.idle": "2022-10-29T20:22:10.214078Z",
     "shell.execute_reply": "2022-10-29T20:22:10.213453Z",
     "shell.execute_reply.started": "2022-10-29T20:22:10.197389Z"
    }
   },
   "outputs": [],
   "source": [
    "def k_means(n_clust, data_frame, true_labels):\n",
    "    \"\"\"\n",
    "    Function k_means applies k-means clustering alrorithm on dataset and prints the crosstab of cluster and actual labels \n",
    "    and clustering performance parameters.\n",
    "    \n",
    "    Input:\n",
    "    n_clust - number of clusters (k value)\n",
    "    data_frame - dataset we want to cluster\n",
    "    true_labels - original labels\n",
    "    \n",
    "    Output:\n",
    "    1 - crosstab of cluster and actual labels\n",
    "    2 - performance table\n",
    "    \"\"\"\n",
    "    k_means = KMeans(n_clusters = n_clust, random_state=123, n_init=30)\n",
    "    k_means.fit(data_frame)\n",
    "    c_labels = k_means.labels_\n",
    "    df = pd.DataFrame({'clust_label': c_labels, 'orig_label': true_labels.tolist()})\n",
    "    ct = pd.crosstab(df['clust_label'], df['orig_label'])\n",
    "    y_clust = k_means.predict(data_frame)\n",
    "    display(ct)\n",
    "    print('% 9s' % 'inertia  homo    compl   v-meas   ARI     AMI     silhouette')\n",
    "    print('%i   %.3f   %.3f   %.3f   %.3f   %.3f    %.3f'\n",
    "      %(k_means.inertia_,\n",
    "      homogeneity_score(true_labels, y_clust),\n",
    "      completeness_score(true_labels, y_clust),\n",
    "      v_measure_score(true_labels, y_clust),\n",
    "      adjusted_rand_score(true_labels, y_clust),\n",
    "      adjusted_mutual_info_score(true_labels, y_clust),\n",
    "      silhouette_score(data_frame, y_clust, metric='euclidean')))"
   ]
  },
  {
   "cell_type": "markdown",
   "metadata": {
    "_uuid": "b1e22250d6fde4cad012ac66805ba112157fe593"
   },
   "source": [
    "*More on clustering metrics can be found in [DataCamp Tutorial](https://www.datacamp.com/community/tutorials/machine-learning-python).*"
   ]
  },
  {
   "cell_type": "code",
   "execution_count": 10,
   "metadata": {
    "_uuid": "4859477e2f03dff8379fd94ced4c538024a3a9da",
    "execution": {
     "iopub.execute_input": "2022-10-29T20:22:10.216369Z",
     "iopub.status.busy": "2022-10-29T20:22:10.215568Z",
     "iopub.status.idle": "2022-10-29T20:22:14.149503Z",
     "shell.execute_reply": "2022-10-29T20:22:14.148548Z",
     "shell.execute_reply.started": "2022-10-29T20:22:10.215980Z"
    }
   },
   "outputs": [
    {
     "data": {
      "text/html": [
       "<div>\n",
       "<style scoped>\n",
       "    .dataframe tbody tr th:only-of-type {\n",
       "        vertical-align: middle;\n",
       "    }\n",
       "\n",
       "    .dataframe tbody tr th {\n",
       "        vertical-align: top;\n",
       "    }\n",
       "\n",
       "    .dataframe thead th {\n",
       "        text-align: right;\n",
       "    }\n",
       "</style>\n",
       "<table border=\"1\" class=\"dataframe\">\n",
       "  <thead>\n",
       "    <tr style=\"text-align: right;\">\n",
       "      <th>orig_label</th>\n",
       "      <th>LAYING</th>\n",
       "      <th>SITTING</th>\n",
       "      <th>STANDING</th>\n",
       "      <th>WALKING</th>\n",
       "      <th>WALKING_DOWNSTAIRS</th>\n",
       "      <th>WALKING_UPSTAIRS</th>\n",
       "    </tr>\n",
       "    <tr>\n",
       "      <th>clust_label</th>\n",
       "      <th></th>\n",
       "      <th></th>\n",
       "      <th></th>\n",
       "      <th></th>\n",
       "      <th></th>\n",
       "      <th></th>\n",
       "    </tr>\n",
       "  </thead>\n",
       "  <tbody>\n",
       "    <tr>\n",
       "      <th>0</th>\n",
       "      <td>680</td>\n",
       "      <td>622</td>\n",
       "      <td>668</td>\n",
       "      <td>0</td>\n",
       "      <td>0</td>\n",
       "      <td>6</td>\n",
       "    </tr>\n",
       "    <tr>\n",
       "      <th>1</th>\n",
       "      <td>1</td>\n",
       "      <td>1</td>\n",
       "      <td>0</td>\n",
       "      <td>603</td>\n",
       "      <td>493</td>\n",
       "      <td>535</td>\n",
       "    </tr>\n",
       "  </tbody>\n",
       "</table>\n",
       "</div>"
      ],
      "text/plain": [
       "orig_label   LAYING        ...         WALKING_UPSTAIRS\n",
       "clust_label                ...                         \n",
       "0               680        ...                        6\n",
       "1                 1        ...                      535\n",
       "\n",
       "[2 rows x 6 columns]"
      ]
     },
     "metadata": {},
     "output_type": "display_data"
    },
    {
     "name": "stdout",
     "output_type": "stream",
     "text": [
      "inertia  homo    compl   v-meas   ARI     AMI     silhouette\n",
      "1156484   0.378   0.981   0.546   0.329   0.378    0.390\n"
     ]
    }
   ],
   "source": [
    "k_means(n_clust=2, data_frame=Data, true_labels=Labels)"
   ]
  },
  {
   "cell_type": "markdown",
   "metadata": {
    "_uuid": "cf131bc7df0790288abdf2fdff3c24e0518825bf"
   },
   "source": [
    "**It looks like algorithm found patterns for Moving and Not-Moving activity with high level of accuracy.**\n",
    "\n",
    "**Check how it will cluster by 6 clusters (original number of classes).**"
   ]
  },
  {
   "cell_type": "code",
   "execution_count": 11,
   "metadata": {
    "_uuid": "77fc311b114a73666db3d1884fd8855494b9cf98",
    "execution": {
     "iopub.execute_input": "2022-10-29T20:22:14.151102Z",
     "iopub.status.busy": "2022-10-29T20:22:14.150764Z",
     "iopub.status.idle": "2022-10-29T20:22:22.842875Z",
     "shell.execute_reply": "2022-10-29T20:22:22.841839Z",
     "shell.execute_reply.started": "2022-10-29T20:22:14.151028Z"
    }
   },
   "outputs": [
    {
     "data": {
      "text/html": [
       "<div>\n",
       "<style scoped>\n",
       "    .dataframe tbody tr th:only-of-type {\n",
       "        vertical-align: middle;\n",
       "    }\n",
       "\n",
       "    .dataframe tbody tr th {\n",
       "        vertical-align: top;\n",
       "    }\n",
       "\n",
       "    .dataframe thead th {\n",
       "        text-align: right;\n",
       "    }\n",
       "</style>\n",
       "<table border=\"1\" class=\"dataframe\">\n",
       "  <thead>\n",
       "    <tr style=\"text-align: right;\">\n",
       "      <th>orig_label</th>\n",
       "      <th>LAYING</th>\n",
       "      <th>SITTING</th>\n",
       "      <th>STANDING</th>\n",
       "      <th>WALKING</th>\n",
       "      <th>WALKING_DOWNSTAIRS</th>\n",
       "      <th>WALKING_UPSTAIRS</th>\n",
       "    </tr>\n",
       "    <tr>\n",
       "      <th>clust_label</th>\n",
       "      <th></th>\n",
       "      <th></th>\n",
       "      <th></th>\n",
       "      <th></th>\n",
       "      <th></th>\n",
       "      <th></th>\n",
       "    </tr>\n",
       "  </thead>\n",
       "  <tbody>\n",
       "    <tr>\n",
       "      <th>0</th>\n",
       "      <td>554</td>\n",
       "      <td>21</td>\n",
       "      <td>0</td>\n",
       "      <td>0</td>\n",
       "      <td>0</td>\n",
       "      <td>0</td>\n",
       "    </tr>\n",
       "    <tr>\n",
       "      <th>1</th>\n",
       "      <td>0</td>\n",
       "      <td>0</td>\n",
       "      <td>0</td>\n",
       "      <td>248</td>\n",
       "      <td>311</td>\n",
       "      <td>97</td>\n",
       "    </tr>\n",
       "    <tr>\n",
       "      <th>2</th>\n",
       "      <td>1</td>\n",
       "      <td>0</td>\n",
       "      <td>0</td>\n",
       "      <td>329</td>\n",
       "      <td>107</td>\n",
       "      <td>438</td>\n",
       "    </tr>\n",
       "    <tr>\n",
       "      <th>3</th>\n",
       "      <td>20</td>\n",
       "      <td>445</td>\n",
       "      <td>479</td>\n",
       "      <td>0</td>\n",
       "      <td>0</td>\n",
       "      <td>0</td>\n",
       "    </tr>\n",
       "    <tr>\n",
       "      <th>4</th>\n",
       "      <td>0</td>\n",
       "      <td>0</td>\n",
       "      <td>0</td>\n",
       "      <td>26</td>\n",
       "      <td>75</td>\n",
       "      <td>4</td>\n",
       "    </tr>\n",
       "    <tr>\n",
       "      <th>5</th>\n",
       "      <td>106</td>\n",
       "      <td>157</td>\n",
       "      <td>189</td>\n",
       "      <td>0</td>\n",
       "      <td>0</td>\n",
       "      <td>2</td>\n",
       "    </tr>\n",
       "  </tbody>\n",
       "</table>\n",
       "</div>"
      ],
      "text/plain": [
       "orig_label   LAYING        ...         WALKING_UPSTAIRS\n",
       "clust_label                ...                         \n",
       "0               554        ...                        0\n",
       "1                 0        ...                       97\n",
       "2                 1        ...                      438\n",
       "3                20        ...                        0\n",
       "4                 0        ...                        4\n",
       "5               106        ...                        2\n",
       "\n",
       "[6 rows x 6 columns]"
      ]
     },
     "metadata": {},
     "output_type": "display_data"
    },
    {
     "name": "stdout",
     "output_type": "stream",
     "text": [
      "inertia  homo    compl   v-meas   ARI     AMI     silhouette\n",
      "895967   0.548   0.589   0.568   0.429   0.547    0.113\n"
     ]
    }
   ],
   "source": [
    "k_means(n_clust=6, data_frame=Data, true_labels=Labels)"
   ]
  },
  {
   "cell_type": "markdown",
   "metadata": {
    "_uuid": "e9ddf90d06a4eda0f9e97555cd39364d976c9d94"
   },
   "source": [
    "**Doesn't look like good connection between clusters and original labels so I will stick with 2 clusters.**"
   ]
  },
  {
   "cell_type": "code",
   "execution_count": 12,
   "metadata": {
    "_uuid": "14fb8f60665b00277373839b7deca6a2bb783ae9",
    "execution": {
     "iopub.execute_input": "2022-10-29T20:22:22.844440Z",
     "iopub.status.busy": "2022-10-29T20:22:22.844175Z",
     "iopub.status.idle": "2022-10-29T20:22:22.855988Z",
     "shell.execute_reply": "2022-10-29T20:22:22.854833Z",
     "shell.execute_reply.started": "2022-10-29T20:22:22.844393Z"
    }
   },
   "outputs": [],
   "source": [
    "#change labels into binary: 0 - not moving, 1 - moving\n",
    "Labels_binary = Labels.copy()\n",
    "for i in range(len(Labels_binary)):\n",
    "    if (Labels_binary[i] == 'STANDING' or Labels_binary[i] == 'SITTING' or Labels_binary[i] == 'LAYING'):\n",
    "        Labels_binary[i] = 0\n",
    "    else:\n",
    "        Labels_binary[i] = 1\n",
    "Labels_binary = np.array(Labels_binary.astype(int))"
   ]
  },
  {
   "cell_type": "code",
   "execution_count": 13,
   "metadata": {
    "_uuid": "3c5902af7a341c558ee3d04bddc8a82db89ba2d4",
    "execution": {
     "iopub.execute_input": "2022-10-29T20:22:22.857734Z",
     "iopub.status.busy": "2022-10-29T20:22:22.857458Z",
     "iopub.status.idle": "2022-10-29T20:22:26.823371Z",
     "shell.execute_reply": "2022-10-29T20:22:26.822469Z",
     "shell.execute_reply.started": "2022-10-29T20:22:22.857664Z"
    }
   },
   "outputs": [
    {
     "data": {
      "text/html": [
       "<div>\n",
       "<style scoped>\n",
       "    .dataframe tbody tr th:only-of-type {\n",
       "        vertical-align: middle;\n",
       "    }\n",
       "\n",
       "    .dataframe tbody tr th {\n",
       "        vertical-align: top;\n",
       "    }\n",
       "\n",
       "    .dataframe thead th {\n",
       "        text-align: right;\n",
       "    }\n",
       "</style>\n",
       "<table border=\"1\" class=\"dataframe\">\n",
       "  <thead>\n",
       "    <tr style=\"text-align: right;\">\n",
       "      <th>orig_label</th>\n",
       "      <th>0</th>\n",
       "      <th>1</th>\n",
       "    </tr>\n",
       "    <tr>\n",
       "      <th>clust_label</th>\n",
       "      <th></th>\n",
       "      <th></th>\n",
       "    </tr>\n",
       "  </thead>\n",
       "  <tbody>\n",
       "    <tr>\n",
       "      <th>0</th>\n",
       "      <td>1970</td>\n",
       "      <td>6</td>\n",
       "    </tr>\n",
       "    <tr>\n",
       "      <th>1</th>\n",
       "      <td>2</td>\n",
       "      <td>1631</td>\n",
       "    </tr>\n",
       "  </tbody>\n",
       "</table>\n",
       "</div>"
      ],
      "text/plain": [
       "orig_label      0     1\n",
       "clust_label            \n",
       "0            1970     6\n",
       "1               2  1631"
      ]
     },
     "metadata": {},
     "output_type": "display_data"
    },
    {
     "name": "stdout",
     "output_type": "stream",
     "text": [
      "inertia  homo    compl   v-meas   ARI     AMI     silhouette\n",
      "1156484   0.977   0.978   0.978   0.991   0.977    0.390\n"
     ]
    }
   ],
   "source": [
    "k_means(n_clust=2, data_frame=Data, true_labels=Labels_binary)"
   ]
  },
  {
   "cell_type": "markdown",
   "metadata": {
    "_uuid": "9fab904423a94794b73a9fe02e9279d281eeef1b"
   },
   "source": [
    "### Principal component analysis (PCA)\n",
    "\n",
    "> Principal Component Analysis is a dimension-reduction tool that can be used to reduce a large set of variables to a small set that still contains most of the information in the large set.\n",
    "\n",
    "**2-cluster algorithm seems to fbe able to find patterns for moving/not-moving labels perfectly so far, but let's see if it can still be improved by dimension reduction. **"
   ]
  },
  {
   "cell_type": "code",
   "execution_count": 14,
   "metadata": {
    "_uuid": "163528d7a251f7a95e5885aa6dd6e909755bcdd1",
    "execution": {
     "iopub.execute_input": "2022-10-29T20:24:28.838033Z",
     "iopub.status.busy": "2022-10-29T20:24:28.837344Z",
     "iopub.status.idle": "2022-10-29T20:24:29.791441Z",
     "shell.execute_reply": "2022-10-29T20:24:29.790207Z",
     "shell.execute_reply.started": "2022-10-29T20:24:28.837976Z"
    }
   },
   "outputs": [
    {
     "data": {
      "image/png": "[encoded data removed]",
      "text/plain": [
       "<matplotlib.figure.Figure at 0x7f330766ac88>"
      ]
     },
     "metadata": {},
     "output_type": "display_data"
    }
   ],
   "source": [
    "#check for optimal number of features\n",
    "pca = PCA(random_state=123)\n",
    "pca.fit(Data)\n",
    "features = range(pca.n_components_)\n",
    "\n",
    "plt.figure(figsize=(8,4))\n",
    "plt.bar(features[:15], pca.explained_variance_[:15], color='Red')\n",
    "plt.xlabel('PCA feature')\n",
    "plt.ylabel('Variance')\n",
    "plt.xticks(features[:15])\n",
    "plt.show()"
   ]
  },
  {
   "cell_type": "markdown",
   "metadata": {
    "_uuid": "95185b3da6fe8962a6fb7e46517cc68024ec1593"
   },
   "source": [
    "**1 feature seems to be best fit for our algorithm.**"
   ]
  },
  {
   "cell_type": "code",
   "execution_count": 15,
   "metadata": {
    "_uuid": "bd1680834e4fd355bcfa9a60e389e72f05e56a26",
    "execution": {
     "iopub.execute_input": "2022-10-29T20:22:27.659178Z",
     "iopub.status.busy": "2022-10-29T20:22:27.658446Z",
     "iopub.status.idle": "2022-10-29T20:22:27.670278Z",
     "shell.execute_reply": "2022-10-29T20:22:27.669506Z",
     "shell.execute_reply.started": "2022-10-29T20:22:27.659097Z"
    }
   },
   "outputs": [],
   "source": [
    "def pca_transform(n_comp):\n",
    "    pca = PCA(n_components=n_comp, random_state=123)\n",
    "    global Data_reduced\n",
    "    Data_reduced = pca.fit_transform(Data)\n",
    "    print('Shape of the new Data df: ' + str(Data_reduced.shape))"
   ]
  },
  {
   "cell_type": "code",
   "execution_count": 16,
   "metadata": {
    "_uuid": "43f3100460829ed0f65a616b5dde28f2f6afd129",
    "execution": {
     "iopub.execute_input": "2022-10-29T20:22:27.672821Z",
     "iopub.status.busy": "2022-10-29T20:22:27.672094Z",
     "iopub.status.idle": "2022-10-29T20:22:27.686578Z",
     "shell.execute_reply": "2022-10-29T20:22:27.685281Z",
     "shell.execute_reply.started": "2022-10-29T20:22:27.672740Z"
    }
   },
   "outputs": [],
   "source": [
    "# pca_transform(n_comp=3)\n",
    "# k_means(n_clust=2, data_frame=Data_reduced, true_labels=Labels)"
   ]
  },
  {
   "cell_type": "code",
   "execution_count": 17,
   "metadata": {
    "_kg_hide-input": true,
    "_uuid": "32a1efa2e6a608615b84aa162e15d41de237c39e",
    "execution": {
     "iopub.execute_input": "2022-10-29T20:22:27.689250Z",
     "iopub.status.busy": "2022-10-29T20:22:27.688513Z",
     "iopub.status.idle": "2022-10-29T20:22:27.701883Z",
     "shell.execute_reply": "2022-10-29T20:22:27.699535Z",
     "shell.execute_reply.started": "2022-10-29T20:22:27.689150Z"
    }
   },
   "outputs": [],
   "source": [
    "# colors = ['green', 'blue', 'orange', 'gray', 'pink', 'red']\n",
    "# fig = plt.figure(figsize=(12,8))\n",
    "# ax = fig.add_subplot(111, projection='3d')\n",
    "# for i in range(len(colors)):\n",
    "#     x = Data_reduced[:, 0][Labels == Labels_keys[i]]\n",
    "#     y = Data_reduced[:, 1][Labels == Labels_keys[i]]\n",
    "#     z = Data_reduced[:, 2][Labels == Labels_keys[i]]\n",
    "#     ax.scatter(xs=x, ys=y, zs=z, zdir='y', s=20, c=colors[i], alpha=0.2)\n",
    "\n",
    "# ax.set_xlabel('First Principal Component')\n",
    "# ax.set_ylabel('Second Principal Component')\n",
    "# ax.set_zlabel('Third Principal Component')\n",
    "# ax.set_title(\"PCA Scatter Plot\")\n",
    "# plt.show()"
   ]
  },
  {
   "cell_type": "code",
   "execution_count": 18,
   "metadata": {
    "_uuid": "1930c533868db12321e36543692211c739595933",
    "execution": {
     "iopub.execute_input": "2022-10-29T20:22:27.705350Z",
     "iopub.status.busy": "2022-10-29T20:22:27.704674Z",
     "iopub.status.idle": "2022-10-29T20:22:28.518246Z",
     "shell.execute_reply": "2022-10-29T20:22:28.517348Z",
     "shell.execute_reply.started": "2022-10-29T20:22:27.705249Z"
    }
   },
   "outputs": [
    {
     "name": "stdout",
     "output_type": "stream",
     "text": [
      "Shape of the new Data df: (3609, 1)\n"
     ]
    },
    {
     "data": {
      "text/html": [
       "<div>\n",
       "<style scoped>\n",
       "    .dataframe tbody tr th:only-of-type {\n",
       "        vertical-align: middle;\n",
       "    }\n",
       "\n",
       "    .dataframe tbody tr th {\n",
       "        vertical-align: top;\n",
       "    }\n",
       "\n",
       "    .dataframe thead th {\n",
       "        text-align: right;\n",
       "    }\n",
       "</style>\n",
       "<table border=\"1\" class=\"dataframe\">\n",
       "  <thead>\n",
       "    <tr style=\"text-align: right;\">\n",
       "      <th>orig_label</th>\n",
       "      <th>0</th>\n",
       "      <th>1</th>\n",
       "    </tr>\n",
       "    <tr>\n",
       "      <th>clust_label</th>\n",
       "      <th></th>\n",
       "      <th></th>\n",
       "    </tr>\n",
       "  </thead>\n",
       "  <tbody>\n",
       "    <tr>\n",
       "      <th>0</th>\n",
       "      <td>1971</td>\n",
       "      <td>8</td>\n",
       "    </tr>\n",
       "    <tr>\n",
       "      <th>1</th>\n",
       "      <td>1</td>\n",
       "      <td>1629</td>\n",
       "    </tr>\n",
       "  </tbody>\n",
       "</table>\n",
       "</div>"
      ],
      "text/plain": [
       "orig_label      0     1\n",
       "clust_label            \n",
       "0            1971     8\n",
       "1               1  1629"
      ]
     },
     "metadata": {},
     "output_type": "display_data"
    },
    {
     "name": "stdout",
     "output_type": "stream",
     "text": [
      "inertia  homo    compl   v-meas   ARI     AMI     silhouette\n",
      "168716   0.976   0.976   0.976   0.990   0.976    0.794\n"
     ]
    }
   ],
   "source": [
    "pca_transform(n_comp=1)\n",
    "k_means(n_clust=2, data_frame=Data_reduced, true_labels=Labels_binary)"
   ]
  },
  {
   "cell_type": "markdown",
   "metadata": {
    "_uuid": "d10035131986233b1be712972047543386f40b05"
   },
   "source": [
    "**Inertia and Silhouette seems to be much better now after reduction. **\n",
    "\n",
    "**Just check clustering model for 2 components.**\n"
   ]
  },
  {
   "cell_type": "code",
   "execution_count": 19,
   "metadata": {
    "_uuid": "117254747dc177e5f18a3077eab9f2b509e5a0af",
    "execution": {
     "iopub.execute_input": "2022-10-29T20:22:28.519768Z",
     "iopub.status.busy": "2022-10-29T20:22:28.519531Z",
     "iopub.status.idle": "2022-10-29T20:22:29.274173Z",
     "shell.execute_reply": "2022-10-29T20:22:29.273383Z",
     "shell.execute_reply.started": "2022-10-29T20:22:28.519731Z"
    }
   },
   "outputs": [
    {
     "name": "stdout",
     "output_type": "stream",
     "text": [
      "Shape of the new Data df: (3609, 2)\n"
     ]
    },
    {
     "data": {
      "text/html": [
       "<div>\n",
       "<style scoped>\n",
       "    .dataframe tbody tr th:only-of-type {\n",
       "        vertical-align: middle;\n",
       "    }\n",
       "\n",
       "    .dataframe tbody tr th {\n",
       "        vertical-align: top;\n",
       "    }\n",
       "\n",
       "    .dataframe thead th {\n",
       "        text-align: right;\n",
       "    }\n",
       "</style>\n",
       "<table border=\"1\" class=\"dataframe\">\n",
       "  <thead>\n",
       "    <tr style=\"text-align: right;\">\n",
       "      <th>orig_label</th>\n",
       "      <th>0</th>\n",
       "      <th>1</th>\n",
       "    </tr>\n",
       "    <tr>\n",
       "      <th>clust_label</th>\n",
       "      <th></th>\n",
       "      <th></th>\n",
       "    </tr>\n",
       "  </thead>\n",
       "  <tbody>\n",
       "    <tr>\n",
       "      <th>0</th>\n",
       "      <td>1969</td>\n",
       "      <td>6</td>\n",
       "    </tr>\n",
       "    <tr>\n",
       "      <th>1</th>\n",
       "      <td>3</td>\n",
       "      <td>1631</td>\n",
       "    </tr>\n",
       "  </tbody>\n",
       "</table>\n",
       "</div>"
      ],
      "text/plain": [
       "orig_label      0     1\n",
       "clust_label            \n",
       "0            1969     6\n",
       "1               3  1631"
      ]
     },
     "metadata": {},
     "output_type": "display_data"
    },
    {
     "name": "stdout",
     "output_type": "stream",
     "text": [
      "inertia  homo    compl   v-meas   ARI     AMI     silhouette\n",
      "295753   0.975   0.975   0.975   0.990   0.975    0.694\n"
     ]
    }
   ],
   "source": [
    "pca_transform(n_comp=2)\n",
    "k_means(n_clust=2, data_frame=Data_reduced, true_labels=Labels_binary)"
   ]
  },
  {
   "cell_type": "markdown",
   "metadata": {
    "_uuid": "ab1886cbcd7f99f2b50d99171d6d9e752355f393"
   },
   "source": [
    "**No improvements here.**\n",
    "\n",
    "**So far it seems like this was best I could do. Still learning clustering algorithms and I might come back to this project later.**\n",
    "\n",
    "**If you know any interesting dataset to practice clustering on (not Iris dataset, haha), please suggest!**"
   ]
  }
 ],
 "metadata": {
  "kernelspec": {
   "display_name": "Python 3",
   "language": "python",
   "name": "python3"
  },
  "language_info": {
   "codemirror_mode": {
    "name": "ipython",
    "version": 3
   },
   "file_extension": ".py",
   "mimetype": "text/x-python",
   "name": "python",
   "nbconvert_exporter": "python",
   "pygments_lexer": "ipython3",
   "version": "3.6.4"
  }
 },
 "nbformat": 4,
 "nbformat_minor": 4
}
